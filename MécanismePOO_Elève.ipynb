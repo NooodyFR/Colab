{
 "cells": [
  {
   "cell_type": "markdown",
   "metadata": {},
   "source": [
    "# Mécanismes de la POO (Programmation Orientée Objet):\n",
    "### Note: Commencez par vous préparer une copie de ce notebook et renommer cette copie: *MécanismesPOO_VotreNom.ipynb**\n",
    "* Aide pour l'utilisation du notebook: voir menu \"Aide\" de Jupyter (dans la barre d'outils ci-dessus). \n",
    "* Aide mémoire pour la syntaxe Makdown:\n",
    "** [CheatSheet](markdown-cheat-sheet.md)\n",
    "** [GitHub](https://guides.github.com/features/mastering-markdown/)   ou la version: [pdf](markdown-cheatsheet-online)\n",
    "** [Markdown1](https://commonmark.org/help/)\n",
    "** [Markdown2](https://support.zendesk.com/hc/fr/articles/203691016-Formatage-de-texte-avec-Markdown#topic_xqx_mvc_43__row_k3l_yln_1n)"
   ]
  },
  {
   "cell_type": "markdown",
   "metadata": {},
   "source": [
    "La programmation orientée objet (POO) est un concept de programmation très puissant qui permet de structurer ses programmes d'une manière nouvelle. En POO, on définit un « objet » qui peut contenir des « attributs » ainsi que des « méthodes » qui agissent sur « objet » lui-même. Pour construire cet objet, on utilise la notion de « classe ».\n",
    "Rappel: En Python tout est objet. \n",
    "Donc, une variable de type **int** est en fait un objet de type int, donc construit à partir de la **classe int**. Pareil pour les types **float** et les **string**. Mais également pour les  **list**,les **tuple**, les **dict**, etc...\n",
    "\n",
    "Une classe définit des objets qui sont des instances (des représentants) de cette classe. \n",
    "Les objets peuvent posséder des attributs (variables associées aux objets) et des méthodes (qui sont des fonctions associées aux objets et qui peuvent agir sur ces derniers ou encore les utiliser).\n",
    "\n",
    "\n",
    "La POO permet de rédiger du code plus compact et mieux ré-utilisable. L'utilisation de classes évite l'utilisation de variables globales en créant ce qu'on appelle un espace de noms propre à chaque objet permettant d'y encapsuler des attributs et des méthodes."
   ]
  },
  {
   "cell_type": "markdown",
   "metadata": {},
   "source": [
    "## 1/ Création d'une classe minimale:  "
   ]
  },
  {
   "cell_type": "markdown",
   "metadata": {},
   "source": [
    "Exemple de déclaration d'une classe:  **class Fruit:**    # Remarque: Toujours écrire le nom de la classe avec une majuscule <br/>\n",
    "\n",
    "11/ Dans un l'interprêteur python (*) de votre choix (Idle; Pyzo; Thonny; Spyder; etc...), saisissez les commandes ci-dessous:\n",
    "\n",
    "![image_1](../3_Images/Capture_1.png)\n",
    "(*): La solution qui consiste à utiliser plusieurs cellules de code du notebook, n'est pas conseillée ici.\n",
    "\n",
    "Vous devriez obtenir les retours indiqués ci-dessus et donc une succession de lignes, identiques. <br/>\n",
    "Copier/coller vos lignes dans la cellule \"Markdown\" ci dessous et commenter les commandes ainsi que le retour de ces commandes.  <br/>\n",
    "Bien faire apparaitre dans vos commentaires, les notions: **d'objet; de type et d'instance.**\n",
    "\n"
   ]
  },
  {
   "cell_type": "markdown",
   "metadata": {},
   "source": [
    "=> *Coller **ici** vos lignes issues de l'interprêteur! Et n'oublier pas de les commenter*"
   ]
  },
  {
   "cell_type": "markdown",
   "metadata": {},
   "source": [
    "12/ Toujours dans l'interprêteur, testez maintenant la commande: **isinstance(orange, Fruit)**   <br/>\n",
    "=> copier/coller ici la commande et son résultat (capture d'écran), donner sa signification et commenter son retour."
   ]
  },
  {
   "cell_type": "markdown",
   "metadata": {},
   "source": [
    "13/ Utiliser [Python Tutor](http://www.pythontutor.com/visualize.html#mode=edit) et reprendre la création de la classe **Fruit** et de l'instance **orange**. <br/> \n",
    "Puis utiliser le bouton \"Vizualise execution\" pour observer l'organisation de l'espace mémoire => Insérer ici la représentation graphique obtenue.  <br/> \n",
    "Nb: syntaxe pour insérer une image: ```![nom](chemin\\NomImage.png)```\n"
   ]
  },
  {
   "cell_type": "markdown",
   "metadata": {},
   "source": [
    "14/ Tester maintenant la commande suivante (dans l'interprêteur):\n",
    "\n",
    "![image_2](../3_Images/Capture_2.png)\n",
    "\n",
    "=> Détailler et commenter ici le retour obtenu."
   ]
  },
  {
   "cell_type": "markdown",
   "metadata": {},
   "source": [
    "## 2/ Ajoutons un attribut d'instance:"
   ]
  },
  {
   "cell_type": "markdown",
   "metadata": {},
   "source": [
    "21/ => Dans l'interprêteur python, ou bien maintenant dans des cellules de code de ce notebook (mais attention dans ce cas de déclarer au préalable, la classe et son instance), testez successivement les commandes suivantes:\n",
    "![Image_3](../3_Images/Capture_3.png)\n",
    "\n",
    "22/ => Selon le cas, (si interprêteur: copier/coller ici ces commandes ainsi que leur retour), et dans tous les cas, **ajouter vos commentaires.**\n"
   ]
  },
  {
   "cell_type": "markdown",
   "metadata": {},
   "source": [
    "L'attribut nommé ```.__dict__``` peu s'avérer utile. Il s'agit d'un dictionnaire qui liste les attributs créés dynamiquement dans l'instance en cours. <br/>\n",
    "23/=> Tester les lignes suivantes et observer leur retour et les commenter:\n",
    "\n",
    "```python\n",
    "banane = Fruit ()\n",
    "banane.__dict__\n",
    "banane.couleur = \"jaune\"\n",
    "banane.__dict__\n",
    "``` \n",
    "24/=> Si on créer une nouvelle instance (citron par exemple), celle-ci possèdera t-elle l'attribut couleur ?"
   ]
  },
  {
   "cell_type": "code",
   "execution_count": 9,
   "metadata": {},
   "outputs": [],
   "source": [
    "# Vérifier votre réponse ici:"
   ]
  },
  {
   "cell_type": "markdown",
   "metadata": {},
   "source": [
    "25/=> Tester et vérifier l'utilisation de l'instruction **del** pour effacer: une instance; une classe."
   ]
  },
  {
   "cell_type": "code",
   "execution_count": 10,
   "metadata": {},
   "outputs": [],
   "source": [
    "#### L'instruction del pour effacer une instance; une classe: ####"
   ]
  },
  {
   "cell_type": "markdown",
   "metadata": {},
   "source": [
    "### Conclusion:\n",
    "   *Une variable ou attribut d'instance est une variable accrochée à une instance et qui est spécifique à cette instance. Cet attribut n'existe donc pas forcément pour toutes les instances d'une classe donnée, et d'une instance à l'autre il ne prendra pas forcément la même valeur. On peut retrouver tous les attributs d'instance d'une instance donnée avec une syntaxe instance: ```.__dict__```.*"
   ]
  },
  {
   "cell_type": "markdown",
   "metadata": {},
   "source": [
    "## 3/ Et maintenant un attribut de classe:\n"
   ]
  },
  {
   "cell_type": "markdown",
   "metadata": {},
   "source": [
    "**Pour ajouter un attribut à une classe, il suffit de déclarer un attribut comme on affecte une variable à une fonction.** <br/>\n",
    "31/ => Tester ci dessous la déclaration d'un attribut \"sensation\" (au palais) à la classe Fruit. Cet attribut pourra prendre comme valeur: \"douceur\". Comparer le comportement d'un attribut de classe avec celui d'une instance (comme \"couleur\" ci dessus)."
   ]
  },
  {
   "cell_type": "code",
   "execution_count": null,
   "metadata": {},
   "outputs": [],
   "source": [
    "# Exemple de déclaration d'un attribut \"sensation\" à la classe Fruit"
   ]
  },
  {
   "cell_type": "markdown",
   "metadata": {},
   "source": [
    "32/ => Utiliser PythonTutor pour créer une illustration de l'espace des noms, de la classe et son attribut et d'une instance avec un attribut d'instance.  <br/>\n",
    "33/ => Commentaire sur le comportement d'un attribut classe: accès depuis la classe, depuis une instance; comment le  modifier..."
   ]
  },
  {
   "cell_type": "markdown",
   "metadata": {},
   "source": [
    "## 4/ Les méthodes:\n",
    "Une méthode est une fonction déclarée dans une classe: <br/>\n",
    "![Image4](../3_Images/Capture_4.png)\n",
    "41/ => Tester l'ajout d'une **méthode** à la classe Fruit, et son exécution, dans une cellule de code de ce notebook.<br/>"
   ]
  },
  {
   "cell_type": "code",
   "execution_count": null,
   "metadata": {},
   "outputs": [],
   "source": [
    "# Exemple d'ajout d'une méthode à la classe Fruit, et son exécution:"
   ]
  },
  {
   "cell_type": "markdown",
   "metadata": {},
   "source": [
    "42/ => Illustrer ici la création d'une méthode avec PythonTutor:"
   ]
  },
  {
   "cell_type": "markdown",
   "metadata": {},
   "source": [
    "## 5/ Le constructeur:\n",
    "Lors de l'instanciation d'un objet à partir d'une classe, il peut être nécessaire de lancer des instructions pour initialiser certaines variables. Pour cela, on ajoute une méthode spéciale nommée ```.__init__()``` : cette méthode s'appelle le « constructeur » de la classe. Il s'agit d'une méthode spéciale dont le nom est entouré de doubles underscores : elle sert au fonctionnement interne de la classe, et elle n'a pas à être lancée comme une fonction classique par l'utilisateur de la classe.<br/>\n",
    "Ce constructeur est exécuté à chaque instanciation de la classe, et ne renvoie pas de valeur, il ne possède donc pas de return."
   ]
  },
  {
   "cell_type": "markdown",
   "metadata": {},
   "source": [
    "Exemple de constructeur: \n",
    "![Image5](../3_Images/Capture_5.png)\n",
    "51/ => A saisir dans une cellule de code. <br/>\n",
    "52/ => Et illustrer avec PythonTutor."
   ]
  },
  {
   "cell_type": "code",
   "execution_count": 1,
   "metadata": {},
   "outputs": [],
   "source": [
    "# Exemple de déclaration d'un constructeur:"
   ]
  },
  {
   "cell_type": "markdown",
   "metadata": {},
   "source": [
    "Illustrer ici, avec PythonTutor (bien visualiser pas à pas, les étapes de création de l'espace de noms):<br/>\n",
    "Ajouter vos commentaires:"
   ]
  },
  {
   "cell_type": "markdown",
   "metadata": {},
   "source": [
    "## 6/ Passage de paramètres (arguments), lors de l'instanciation:\n",
    "Comme pour les fonctions, il est possible de passer des arguments (positionnels ou par mot-clés). <br/>\n",
    "Tester l'exemple suivant:\n",
    "![Image6](../3_Images/Capture_6.png)\n",
    "61/ => Dans une cellule de code, puis vérifier les arguments (instance.```_dict```).<br/>\n",
    "62/ => Illustrer l'espace des noms avec **Python Tutor**"
   ]
  },
  {
   "cell_type": "code",
   "execution_count": null,
   "metadata": {},
   "outputs": [],
   "source": [
    "#Exemple de passage de paramètres"
   ]
  },
  {
   "cell_type": "code",
   "execution_count": null,
   "metadata": {},
   "outputs": [],
   "source": [
    "Illustration du passage de paramètres avec PythonTutor:"
   ]
  },
  {
   "cell_type": "markdown",
   "metadata": {},
   "source": [
    "63/ => Identifier le(s) paramètre(s) positionnel(s) et par mot-clé(s)."
   ]
  },
  {
   "cell_type": "markdown",
   "metadata": {},
   "source": [
    "## 7/ Le paramètre *self*:\n",
    "Voici quelques exemples à tester (cellule de code et sur le site de Python Tutor) pour mieux appéhender le rôle du paramètre self:<br/>\n",
    "71/ => Exemple 1:\n",
    "![Image7](../3_Images/Capture_7.png)"
   ]
  },
  {
   "cell_type": "code",
   "execution_count": null,
   "metadata": {},
   "outputs": [],
   "source": [
    "# Exemple 1:"
   ]
  },
  {
   "cell_type": "markdown",
   "metadata": {},
   "source": [
    "Illustration avec Python tutor: "
   ]
  },
  {
   "cell_type": "markdown",
   "metadata": {},
   "source": [
    "Vos commentaires:"
   ]
  },
  {
   "cell_type": "markdown",
   "metadata": {},
   "source": [
    "72/ =>  Tester les deux commandes suivantes: \n",
    "* cerise.message()\n",
    "* Fruit.message(cerise) <br/>\n",
    "Sont-elles équivalentes ? Laquelle faut-il privilégier ?"
   ]
  },
  {
   "cell_type": "markdown",
   "metadata": {},
   "source": [
    "73/ => Exemple 2:\n",
    "![Image8](03_Capture_8.png)\n",
    "Compléter la ligne avec le code nécessaire, puis tester et commenter."
   ]
  },
  {
   "cell_type": "markdown",
   "metadata": {},
   "source": [
    "74/ => Exemple 3: faire une variante de l'exemple 2, permettant de compléter l'affichage de cette façon:<br/>\n",
    "\"Je suis {couleur} comme ma cousine la tomate\" <br/>\n",
    "Commentaire(s) ?"
   ]
  },
  {
   "cell_type": "markdown",
   "metadata": {},
   "source": [
    "## 8/ Comportement des attributs d'instance et de classe:\n",
    "81/ => Tester l'exemple suivant:\n",
    "![image9](../3_Images/Capture_9.png)"
   ]
  },
  {
   "cell_type": "code",
   "execution_count": 2,
   "metadata": {},
   "outputs": [],
   "source": [
    "# A tester ici, dans une cellule de code"
   ]
  },
  {
   "cell_type": "markdown",
   "metadata": {},
   "source": [
    "=> Ajouter ici une illustration de l'exemple précédent avec Python Tutor. Ajouter vos commentaires."
   ]
  },
  {
   "cell_type": "markdown",
   "metadata": {},
   "source": [
    "82/ => Exercice:\n",
    "Reprendre l'exemple précédent et y intégrer une méthode \"message\" qui affiche les attributs d'instance et de classe.<br/>\n",
    "83/ => Conclusion: quant à l'accès aux attributs ( de classe et d'instance) ?"
   ]
  },
  {
   "cell_type": "markdown",
   "metadata": {},
   "source": [
    "84/ => Exercice:\n",
    "Pour faire une salade de fruits, on souhaite connaitre le nombre d'instances de la classe Fruit, afin d'ajouter 50% de sucre."
   ]
  },
  {
   "cell_type": "markdown",
   "metadata": {},
   "source": [
    "**Remarque: <br/>**\n",
    "Les attributs de classe ne peuvent pas être modifiés ni à l'extérieur d'une classe via une syntaxe instance.attribut_de_classe = nouvelle_valeur, ni à l'intérieur d'une classe via une syntaxe self.attribut_de_classe = nouvelle_valeur. Puisqu'ils sont destinés à être identiques pour toutes les instances, cela est logique de ne pas pouvoir les modifier via une instance. Les attributs de classe Python ressemblent en quelque sorte aux attributs statiques du C++.\n",
    "\n",
    "85/ => Exemple:\n",
    "![Image10](../3_Images/Capture_10.png)"
   ]
  },
  {
   "cell_type": "markdown",
   "metadata": {},
   "source": [
    "=> Ajouter ici vos commentaires/observations et conclure."
   ]
  },
  {
   "cell_type": "markdown",
   "metadata": {},
   "source": [
    "**A retenir:<br/>**\n",
    "Même si on peut modifier un attribut de classe, il est déconseillé de le faire. Les attributs de classe sont utiles pour par exemple de définir des constantes. Cela n'a pas donc pas de sens de vouloir les modifier ! Il est également déconseillé de créer des attributs de classe avec des objets modifiables comme des listes et des dictionnaires.\n",
    "\n",
    "Pour avoir des attributs modifiables dans une classe, il est préférable d'utiliser des attributs d'instance dans le .__init__()."
   ]
  },
  {
   "cell_type": "markdown",
   "metadata": {},
   "source": [
    "**Définitions: Espace de noms et la règle LGI:**<br/>\n",
    "Voici la [définition](https://docs.python.org/fr/3/tutorial/classes.html#python-scopes-and-namespaces) d'un espace de noms: \n",
    "> « a namespace is a mapping from names to objects ».\n",
    "\n",
    "Un espace de noms, est une correspondance entre des noms et des objets. Un espace de noms peut être vu comme une capsule dans laquelle on trouve des noms d'objets. Par exemple, le programme principal ou une fonction représentent chacun un espace de noms, un module aussi, et bien sûr une classe ou l'instance d'une classe également.<br/>\n",
    "**Règle LGI:** <br/>\n",
    "La règle LGI peut être résumée ainsi : **Local > Global > Interne**.<br/>\n",
    "Lorsque Python rencontre un objet, il utilise cette règle de priorité pour accéder à la valeur de celui-ci. Si on est dans une fonction (ou une méthode), Python va d'abord chercher l'espace de noms local à cette fonction. S'il ne trouve pas de nom il va ensuite chercher l'espace de noms du programme principal (ou celui du module), donc des variables globales s'y trouvant. S'il ne trouve pas de nom, il va chercher dans les commandes internes à Python (on parle des Built-in Functions et des Built-in Constants). Si aucun objet n'est trouvé, Python renvoie une erreur.<br/>\n",
    "Pour les modules, le principe de gestion/résolution des noms, est le même ==> Voir l'exemple ci dessous:"
   ]
  },
  {
   "cell_type": "code",
   "execution_count": null,
   "metadata": {},
   "outputs": [],
   "source": [
    "import module\n",
    "\n",
    "racine2 = 0.707\n",
    "pi = 3.14\n",
    "\n",
    "# Pour le pgr principal, les objets \"racine2\" et \"pi\" sont:\n",
    "print(\"Pour le prog principal: La racine de 2 est:\", racine2)\n",
    "print(\"Pour le prog principal: La valeur de PI est:\", pi)\n",
    "\n",
    "# Pour le module, les objets \"racine2\" et \"pi\" sont:\n",
    "module.fct1()\n",
    "module.fct2()\n",
    "\n",
    "# Et de retour dans le pgr principal:\n",
    "print(\"\\nDe retour dans le prog principal: La racine de 2 est:\", racine2)\n",
    "print(\"De retour dans le prog principal: La valeur de PI est:\", pi)\n",
    "\n",
    "del racine2\n",
    "\n",
    "print(\"\\nPour le prog principal: La racine de 2 est:\", racine2)\n"
   ]
  },
  {
   "cell_type": "raw",
   "metadata": {},
   "source": [
    "=> Ajouter vos commentaires ici, ou dans le code."
   ]
  },
  {
   "cell_type": "markdown",
   "metadata": {},
   "source": [
    "Et voici un autre exemple, avec une classe cette fois: (à tester avec Python Tutor) \n",
    "![Image11](../3_Images/Capture_11.png)"
   ]
  },
  {
   "cell_type": "markdown",
   "metadata": {},
   "source": [
    "=> Vos commentaires ?"
   ]
  },
  {
   "cell_type": "markdown",
   "metadata": {},
   "source": [
    "Un dernier exemple, avec les méthodes:\n",
    "![Image12](../3_Images/Capture_12.png)"
   ]
  },
  {
   "cell_type": "markdown",
   "metadata": {},
   "source": [
    "=> Vos commentaires ?"
   ]
  }
 ],
 "metadata": {
  "kernelspec": {
   "display_name": "Python 3",
   "language": "python",
   "name": "python3"
  },
  "language_info": {
   "codemirror_mode": {
    "name": "ipython",
    "version": 3
   },
   "file_extension": ".py",
   "mimetype": "text/x-python",
   "name": "python",
   "nbconvert_exporter": "python",
   "pygments_lexer": "ipython3",
   "version": "3.7.7"
  }
 },
 "nbformat": 4,
 "nbformat_minor": 4
}
