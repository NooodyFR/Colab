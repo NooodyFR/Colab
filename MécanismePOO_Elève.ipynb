{
 "cells": [
  {
   "cell_type": "markdown",
   "metadata": {},
   "source": [
    "# Mécanismes de la POO (Programmation Orientée Objet):\n",
    "### Note: Commencez par faire une copie de ce notebook et renommer cette copie: *MécanismesPOO_VotreNom.ipynb**\n",
    "* Aide pour l'utilisation du notebook: voir menu \"Aide\" de Jupyter (dans la barre d'outils ci-dessus). \n",
    "* Aide mémoire pour la syntaxe Makdown:[GitHub](https://docs.github.com/en/github/writing-on-github/basic-writing-band-formatting-syntax) ou [Markdown](https://commonmark.org/help/)"
   ]
  },
  {
   "cell_type": "markdown",
   "metadata": {},
   "source": [
    "La programmation orientée objet (POO) est un concept de programmation très puissant qui permet de structurer ses programmes d'une manière nouvelle. En POO, on définit un « objet » qui peut contenir des « attributs » ainsi que des « méthodes » qui agissent sur « objet » lui-même. Pour construire cet objet, on utilise la notion de « classe ».\n",
    "Rappel: En Python tout est objet. \n",
    "Donc, une variable de type **int** est en fait un objet de type int, donc construit à partir de la **classe int**. Pareil pour les types **float** et les **string**. Mais également pour les  **list**,les **tuple**, les **dict**, etc...\n",
    "\n",
    "Une classe définit des objets qui sont des instances (des représentants) de cette classe. \n",
    "Les objets peuvent posséder des attributs (variables associées aux objets) et des méthodes (qui sont des fonctions associées aux objets et qui peuvent agir sur ces derniers ou encore les utiliser).\n",
    "\n",
    "\n",
    "La POO permet de rédiger du code plus compact et mieux ré-utilisable. L'utilisation de classes évite l'utilisation de variables globales en créant ce qu'on appelle un espace de noms propre à chaque objet permettant d'y encapsuler des attributs et des méthodes."
   ]
  },
  {
   "cell_type": "markdown",
   "metadata": {},
   "source": [
    "## 1/ Création d'une classe minimale:  "
   ]
  },
  {
   "cell_type": "markdown",
   "metadata": {},
   "source": [
    "Exemple de déclaration d'une classe:  **class Fruit:**    # Remarque: Toujours écrire le nom de la classe avec une majuscule <br/>\n",
    "\n",
    "11/ Dans un l'interprêteur python (*) de votre choix (Idle; Pyzo; Thonny; Spyder; etc...), saisissez les commandes ci-dessous:\n",
    "\n",
    "![image_1](Capture_1.png)\n",
    "(*): La solution qui consiste à utiliser plusieurs cellules de code du notebook, n'est pas conseillée ici.\n",
    "\n",
    "Vous devriez obtenir les retours indiqués ci-dessus et donc une succession de lignes, identiques. <br/>\n",
    "Copier/coller vos lignes dans la cellule \"Markdown\" ci dessous et commenter les commandes ainsi que le retour de ces commandes.  <br/>\n",
    "Bien faire apparaitre dans vos commentaires, les notions: **d'objet; de type et d'instance.**\n",
    "\n"
   ]
  },
  {
   "cell_type": "markdown",
   "metadata": {},
   "source": [
    "=> *Coller **ici** vos lignes issues de l'interprêteur! Et n'oublier pas de les commenter*"
   ]
  },
  {
   "cell_type": "markdown",
   "metadata": {},
   "source": [
    "12/ Toujours dans l'interprêteur, testez maintenant la commande: **isinstance(orange, Fruit)**   <br/>\n",
    "=> copier/coller ici la commande et son résultat (capture d'écran), donner sa signification et commenter son retour."
   ]
  },
  {
   "cell_type": "markdown",
   "metadata": {},
   "source": [
    "13/ Utiliser [Python Tutor](http://www.pythontutor.com/visualize.html#mode=edit) et reprendre la création de la classe **Fruit** et de l'instance **orange**. <br/> \n",
    "Puis utiliser le bouton \"Vizualise execution\" pour observer l'organisation de l'espace mémoire => Insérer ici la représentation graphique obtenue.  <br/> \n",
    "Nb: syntaxe pour insérer une image: ```![nom](chemin\\NomImage.png)```\n"
   ]
  },
  {
   "cell_type": "markdown",
   "metadata": {},
   "source": [
    "14/ Tester maintenant la commande suivante (dans l'interprêteur):\n",
    "\n",
    "![image_2](Capture_2.png)\n",
    "\n",
    "=> Détailler et commenter ici le retour obtenu."
   ]
  },
  {
   "cell_type": "markdown",
   "metadata": {},
   "source": [
    "## 2/ Ajoutons un attribut d'instance:"
   ]
  },
  {
   "cell_type": "markdown",
   "metadata": {},
   "source": [
    "21/ => Dans l'interprêteur python, ou bien maintenant dans des cellules de code de ce notebook (mais attention dans ce cas de déclarer au préalable, la classe et son instance), testez successivement les commandes suivantes:\n",
    "![Image_3](Capture_3.png)\n",
    "\n",
    "22/ => Selon le cas, (si interprêteur: copier/coller ici ces commandes ainsi que leur retour), et dans tous les cas, **ajouter vos commentaires.**\n"
   ]
  },
  {
   "cell_type": "markdown",
   "metadata": {},
   "source": [
    "L'attribut nommé ```.__dict__``` peu s'avérer utile. Il s'agit d'un dictionnaire qui listera les attributs créés dynamiquement dans l'instance en cours. <br/>\n",
    "23/=> Tester les lignes suivantes et observer leur retour et les commenter:\n",
    "\n",
    "```python\n",
    "banane = Fruit ()\n",
    "banane.__dict__\n",
    "banane.couleur = \"jaune\"\n",
    "banane.__dict__\n",
    "``` \n",
    "24/=> Si on créer une nouvelle instance (citron par exemple), celle-ci possèdera t-elle l'attribut couleur ?"
   ]
  },
  {
   "cell_type": "code",
   "execution_count": 9,
   "metadata": {},
   "outputs": [],
   "source": [
    "# Vérifier votre réponse ici:"
   ]
  },
  {
   "cell_type": "markdown",
   "metadata": {},
   "source": [
    "25/=> Tester et vérifier l'utilisation de l'instruction **del** pour effacer: une instance; une classe."
   ]
  },
  {
   "cell_type": "code",
   "execution_count": 10,
   "metadata": {},
   "outputs": [],
   "source": [
    "#### L'instruction del pour effacer une instance; une classe: ####"
   ]
  },
  {
   "cell_type": "markdown",
   "metadata": {},
   "source": [
    "### Conclusion:\n",
    "   *Une variable ou attribut d'instance est une variable accrochée à une instance et qui est spécifique à cette instance. Cet attribut n'existe donc pas forcément pour toutes les instances d'une classe donnée, et d'une instance à l'autre il ne prendra pas forcément la même valeur. On peut retrouver tous les attributs d'instance d'une instance donnée avec une syntaxe instance: ```.__dict__```.*"
   ]
  },
  {
   "cell_type": "markdown",
   "metadata": {},
   "source": [
    "## 3/ Et maintenant un attribut de classe:\n"
   ]
  },
  {
   "cell_type": "markdown",
   "metadata": {},
   "source": [
    "**Pour ajouter un attribut à une classe, il suffit de déclarer un attribut comme on affecte une variable à une fonction.** <br/>\n",
    "31/ => Tester ci dessous la déclaration d'un attribut \"sensation\" (au palais) à la classe Fruit. Cet attribut pourra prendre comme valeur: \"douceur\". Comparer le comportement d'un attribut de classe avec celui d'une instance (comme \"couleur\" ci dessus)."
   ]
  },
  {
   "cell_type": "code",
   "execution_count": null,
   "metadata": {},
   "outputs": [],
   "source": [
    "# Exemple de déclaration d'un attribut \"sensation\" à la classe Fruit"
   ]
  },
  {
   "cell_type": "markdown",
   "metadata": {},
   "source": [
    "32/ => Utiliser PythonTutor pour créer une illustration de l'espace des noms, de la classe et son attribut et d'une instance avec un attribut d'instance.  <br/>\n",
    "33/ => Commentaire sur le comportement d'un attribut classe: accès depuis la classe, depuis une instance; comment le  modifier..."
   ]
  },
  {
   "cell_type": "markdown",
   "metadata": {},
   "source": [
    "## 4/ Les méthodes:\n",
    "Une méthode est une fonction déclarée dans une classe: <br/>\n",
    "![Image4](Capture_4.png)\n",
    "41/ => Tester l'ajout d'une **méthode** à la classe Fruit, et son exécution, dans une cellule de code de ce notebook.<br/>"
   ]
  },
  {
   "cell_type": "code",
   "execution_count": null,
   "metadata": {},
   "outputs": [],
   "source": [
    "# Exemple d'ajout d'une méthode à la classe Fruit, et son exécution:"
   ]
  },
  {
   "cell_type": "markdown",
   "metadata": {},
   "source": [
    "42/ => Illustrer ici la création d'une méthode avec PythonTutor:"
   ]
  },
  {
   "cell_type": "markdown",
   "metadata": {},
   "source": [
    "## 5/ Le constructeur:\n",
    "Lors de l'instanciation d'un objet à partir d'une classe, il peut être nécessaire de lancer des instructions pour initialiser certaines variables. Pour cela, on ajoute une méthode spéciale nommée ```.__init__()``` : cette méthode s'appelle le « constructeur » de la classe. Il s'agit d'une méthode spéciale dont le nom est entouré de doubles underscores : elle sert au fonctionnement interne de la classe, et elle n'a pas à être lancée comme une fonction classique par l'utilisateur de la classe.<br/>\n",
    "Ce constructeur est exécuté à chaque instanciation de la classe, et ne renvoie pas de valeur, il ne possède donc pas de return."
   ]
  },
  {
   "cell_type": "markdown",
   "metadata": {},
   "source": [
    "Exemple de constructeur: \n",
    "![Image5](Capture_5.png)\n",
    "51/ => A saisir dans une cellule de code. <br/>\n",
    "52/ => Et illustrer avec PythonTutor."
   ]
  },
  {
   "cell_type": "code",
   "execution_count": 1,
   "metadata": {},
   "outputs": [],
   "source": [
    "# Exemple de déclaration d'un constructeur:"
   ]
  },
  {
   "cell_type": "markdown",
   "metadata": {},
   "source": [
    "Illustrer ici, avec PythonTutor (bien visualiser pas à pas, les étapes de création de l'espace de noms):<br/>\n",
    "Ajouter vos commentaires:"
   ]
  },
  {
   "cell_type": "markdown",
   "metadata": {},
   "source": [
    "## 6/ Passage de paramètres (arguments), lors de l'instanciation:\n",
    "Comme pour les fonctions, il est possible de passer des arguments (positionnels ou par mot-clés). <br/>\n",
    "Tester l'exemple suivant:\n",
    "![Image6](Capture_6.png)\n",
    "61/ => Dans une cellule de code, puis vérifier les arguments (instance.```_dict```).<br/>\n",
    "62/ => Illustrer l'espace des noms avec **Python Tutor**"
   ]
  },
  {
   "cell_type": "code",
   "execution_count": null,
   "metadata": {},
   "outputs": [],
   "source": [
    "#Exemple de passage de paramètres"
   ]
  },
  {
   "cell_type": "code",
   "execution_count": null,
   "metadata": {},
   "outputs": [],
   "source": [
    "Illustration du passage de paramètres avec PythonTutor:"
   ]
  },
  {
   "cell_type": "markdown",
   "metadata": {},
   "source": [
    "63/ => Identifier le(s) paramètre(s) positionnel(s) et par mot-clé(s)."
   ]
  },
  {
   "cell_type": "markdown",
   "metadata": {},
   "source": [
    "## 7/ Le paramètre *self*:\n",
    "Voici quelques exemples à tester (cellule de code et sur le site de Python Tutor) pour mieux appéhender le rôle du paramètre self:<br/>\n",
    "71/ => Exemple 1:\n",
    "![Image7](Capture_7.png)"
   ]
  },
  {
   "cell_type": "code",
   "execution_count": null,
   "metadata": {},
   "outputs": [],
   "source": [
    "# Exemple 1:"
   ]
  },
  {
   "cell_type": "markdown",
   "metadata": {},
   "source": [
    "Illustration avec Python tutor: "
   ]
  },
  {
   "cell_type": "markdown",
   "metadata": {},
   "source": [
    "Vos commentaires:"
   ]
  },
  {
   "cell_type": "markdown",
   "metadata": {},
   "source": [
    "72/ =>  Tester les deux commandes suivantes: \n",
    "* cerise.message()\n",
    "* Fruit.message(cerise) <br/>\n",
    "Sont-elles équivalentes ? Laquelle faut il privilégier ?"
   ]
  },
  {
   "cell_type": "markdown",
   "metadata": {},
   "source": [
    "73/ => Exemple 2:\n",
    "![Image8](Capture_8.png)\n",
    "Compléter la ligne avec le code nécessaire, puis tester et commenter."
   ]
  },
  {
   "cell_type": "markdown",
   "metadata": {},
   "source": [
    "74/ => Exemple 3: faire une variante de l'exemple 2, permettant de compléter l'affichage de cette façon:<br/>\n",
    "\"Je suis {couleur} comme ma cousine la tomate\" <br/>\n",
    "Commentaire(s) ?"
   ]
  },
  {
   "cell_type": "markdown",
   "metadata": {},
   "source": [
    "## 8/ comportement des attributs d'instance et de classe:\n",
    "81/ => Tester l'exemple suivant:\n",
    "![image9](Capture_9.png)"
   ]
  },
  {
   "cell_type": "code",
   "execution_count": 2,
   "metadata": {},
   "outputs": [],
   "source": [
    "# A tester ici, dans une cellule de code"
   ]
  },
  {
   "cell_type": "markdown",
   "metadata": {},
   "source": [
    "Illustration avec Python Tutor. Ajouter vos commentaires."
   ]
  },
  {
   "cell_type": "markdown",
   "metadata": {},
   "source": [
    "82/ => Exercice:\n",
    "Reprendre l'exemple précédent et y intégrer une méthode \"message\" qui affiche les attributs d'instance et de classe.<br/>\n",
    "83/ => Conclusion: quant à l'accès aux attributs ( de classe et d'instance) ?"
   ]
  },
  {
   "cell_type": "markdown",
   "metadata": {},
   "source": [
    "84/ => Exercice:\n",
    "Pour notre salade de fruits, on souhaite connaitre le nombre d'instances de la classe Fruit, afin d'ajouter 50% de sucre."
   ]
  }
 ],
 "metadata": {
  "kernelspec": {
   "display_name": "Python 3",
   "language": "python",
   "name": "python3"
  },
  "language_info": {
   "codemirror_mode": {
    "name": "ipython",
    "version": 3
   },
   "file_extension": ".py",
   "mimetype": "text/x-python",
   "name": "python",
   "nbconvert_exporter": "python",
   "pygments_lexer": "ipython3",
   "version": "3.7.7"
  }
 },
 "nbformat": 4,
 "nbformat_minor": 4
}
